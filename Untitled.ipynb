{
 "cells": [
  {
   "cell_type": "code",
   "execution_count": 1,
   "id": "823852d8",
   "metadata": {},
   "outputs": [],
   "source": [
    "import django\r\n",
    "import os\r\n",
    "\r\n",
    "from django.core.wsgi import get_wsgi_application\r\n",
    "\r\n",
    "os.environ.setdefault('DJANGO_SETTINGS_MODULE', 'django_orm_tests.settings')\r\n",
    "\r\n",
    "application = get_wsgi_application()\r\n",
    "\r\n",
    "\r\n",
    "import pandas as pd\r\n",
    "from commerce.models import WithChoices\r\n",
    "from django.db.models.functions import *\r\n",
    "from django.db.models.expressions import *\r\n",
    "from django.db.models.fields import *\r\n",
    "from django.db.models import *\r\n",
    "from commerce.models import *"
   ]
  },
  {
   "cell_type": "code",
   "execution_count": 2,
   "id": "61a700a5",
   "metadata": {},
   "outputs": [],
   "source": [
    "\r\n",
    "class GroupConcat(Aggregate):\r\n",
    "    function = 'GROUP_CONCAT'\r\n",
    "    template = '%(function)s(%(distinct)s%(expressions)s)'\r\n",
    "    allow_distinct = True\r\n",
    "    def __init__(self, expression, distinct=False, **extra):\r\n",
    "        super().__init__(\r\n",
    "            expression,\r\n",
    "            distinct='DISTINCT ' if distinct else '',\r\n",
    "            output_field=CharField(),\r\n",
    "            **extra)"
   ]
  },
  {
   "cell_type": "code",
   "execution_count": 3,
   "id": "fc29ce6e",
   "metadata": {},
   "outputs": [],
   "source": [
    "cotizaciones = Cotizacion.objects.all()\r\n",
    "ventas = Venta.objects.all()"
   ]
  },
  {
   "cell_type": "markdown",
   "id": "093f3b25",
   "metadata": {},
   "source": [
    "# Ranking de cotizaciones por creadores"
   ]
  },
  {
   "cell_type": "code",
   "execution_count": 4,
   "id": "a57306d9",
   "metadata": {},
   "outputs": [
    {
     "name": "stdout",
     "output_type": "stream",
     "text": [
      "{'creado__username': 'usuario 3', 'cantidad': 17, 'total': 2518.3066490907886, 'ranking': 1, 'creadores': 'usuario 3', 'productos': 'Producto 8,Producto 6,Producto 3,Producto 12,Producto 1,Producto 2,Producto 11,Producto 5,Producto 0,Producto 7,Producto 10'}\n",
      "{'creado__username': 'usuario 4', 'cantidad': 8, 'total': 912.0927477610874, 'ranking': 2, 'creadores': 'usuario 4', 'productos': 'Producto 6,Producto 9,Producto 3,Producto 0,Producto 13,Producto 11,Producto 10'}\n",
      "{'creado__username': 'usuario 0', 'cantidad': 10, 'total': 856.7102059944584, 'ranking': 3, 'creadores': 'usuario 0', 'productos': 'Producto 6,Producto 9,Producto 0,Producto 12,Producto 13,Producto 1,Producto 10'}\n",
      "{'creado__username': 'lautaro', 'cantidad': 10, 'total': 754.9199134760415, 'ranking': 4, 'creadores': 'lautaro', 'productos': 'Producto 4,Producto 8,Producto 6,Producto 13,Producto 1,Producto 11'}\n",
      "{'creado__username': 'usuario 1', 'cantidad': 5, 'total': 605.9304440242801, 'ranking': 5, 'creadores': 'usuario 1', 'productos': 'Producto 4,Producto 8,Producto 7,Producto 2,Producto 5'}\n"
     ]
    }
   ],
   "source": [
    "for value in (\r\n",
    "    cotizaciones\r\n",
    "    .ranking_cotizaciones_por_creadores()\r\n",
    "):print(value)"
   ]
  },
  {
   "cell_type": "markdown",
   "id": "945f2237",
   "metadata": {},
   "source": [
    "# Ranking de ventas por creadores"
   ]
  },
  {
   "cell_type": "code",
   "execution_count": 14,
   "id": "2758e43c",
   "metadata": {},
   "outputs": [
    {
     "name": "stdout",
     "output_type": "stream",
     "text": [
      "{'creado__username': 'usuario 5', 'cantidad': 10, 'total': 1647.058633210222, 'ranking': 1}\n",
      "{'creado__username': 'usuario 1', 'cantidad': 13, 'total': 1518.0231917853673, 'ranking': 2}\n",
      "{'creado__username': 'usuario 0', 'cantidad': 7, 'total': 871.2480158805663, 'ranking': 3}\n",
      "{'creado__username': 'usuario 4', 'cantidad': 10, 'total': 856.7102059944584, 'ranking': 4}\n",
      "{'creado__username': 'usuario 3', 'cantidad': 10, 'total': 754.9199134760416, 'ranking': 5}\n"
     ]
    }
   ],
   "source": [
    "for value in (\r\n",
    "    ventas\r\n",
    "    .values('creado__username')\r\n",
    "    .annotate(\r\n",
    "        cantidad=Count('cotizacion__productos'),\r\n",
    "        total=Sum(F('cotizacion__productos__precio') * F('cotizacion__productos__cantidad')),\r\n",
    "        ranking=Window(expression=DenseRank(), order_by=[F('total').desc()]),\r\n",
    "    )\r\n",
    "    .order_by('ranking')\r\n",
    "):print(value)"
   ]
  },
  {
   "cell_type": "markdown",
   "id": "73060b34",
   "metadata": {},
   "source": [
    "# Ranking de productos en cotizaciones"
   ]
  },
  {
   "cell_type": "code",
   "execution_count": 6,
   "id": "e1bcdae8",
   "metadata": {},
   "outputs": [
    {
     "name": "stdout",
     "output_type": "stream",
     "text": [
      "{'productos__nombre': 'Producto 10', 'cantidad': 6, 'total': 990.2370844671439, 'ranking': 1, 'creadores': 'usuario 0,usuario 0,usuario 3,usuario 3,usuario 4,usuario 4'}\n",
      "{'productos__nombre': 'Producto 11', 'cantidad': 3, 'total': 901.5251165633391, 'ranking': 2, 'creadores': 'lautaro,usuario 3,usuario 4'}\n",
      "{'productos__nombre': 'Producto 1', 'cantidad': 4, 'total': 783.017031518781, 'ranking': 3, 'creadores': 'lautaro,usuario 0,usuario 3,usuario 3'}\n",
      "{'productos__nombre': 'Producto 2', 'cantidad': 2, 'total': 552.0207134106386, 'ranking': 4, 'creadores': 'usuario 1,usuario 3'}\n",
      "{'productos__nombre': 'Producto 5', 'cantidad': 2, 'total': 508.9299125825958, 'ranking': 5, 'creadores': 'usuario 1,usuario 3'}\n",
      "{'productos__nombre': 'Producto 13', 'cantidad': 5, 'total': 346.9551907843867, 'ranking': 6, 'creadores': 'lautaro,lautaro,usuario 0,usuario 0,usuario 4'}\n",
      "{'productos__nombre': 'Producto 3', 'cantidad': 4, 'total': 334.83972620114974, 'ranking': 7, 'creadores': 'usuario 3,usuario 3,usuario 3,usuario 4'}\n",
      "{'productos__nombre': 'Producto 0', 'cantidad': 5, 'total': 304.4553197459108, 'ranking': 8, 'creadores': 'usuario 0,usuario 0,usuario 3,usuario 3,usuario 4'}\n",
      "{'productos__nombre': 'Producto 8', 'cantidad': 5, 'total': 260.90219605975767, 'ranking': 9, 'creadores': 'lautaro,lautaro,lautaro,usuario 1,usuario 3'}\n",
      "{'productos__nombre': 'Producto 6', 'cantidad': 5, 'total': 247.12471653680717, 'ranking': 10, 'creadores': 'lautaro,usuario 0,usuario 3,usuario 3,usuario 4'}\n",
      "{'productos__nombre': 'Producto 7', 'cantidad': 2, 'total': 188.11342774200506, 'ranking': 11, 'creadores': 'usuario 1,usuario 3'}\n",
      "{'productos__nombre': 'Producto 9', 'cantidad': 2, 'total': 110.38411431409338, 'ranking': 12, 'creadores': 'usuario 0,usuario 4'}\n",
      "{'productos__nombre': 'Producto 12', 'cantidad': 2, 'total': 92.69400655807588, 'ranking': 13, 'creadores': 'usuario 0,usuario 3'}\n",
      "{'productos__nombre': 'Producto 4', 'cantidad': 3, 'total': 26.761403861971115, 'ranking': 14, 'creadores': 'lautaro,lautaro,usuario 1'}\n"
     ]
    }
   ],
   "source": [
    "for value in (\r\n",
    "    cotizaciones\r\n",
    "    .values('productos__nombre')\r\n",
    "    .annotate(\r\n",
    "        cantidad=Count('id'),\r\n",
    "        total=Sum(F('productos__precio') * F('productos__cantidad')),\r\n",
    "        ranking=Window(expression=DenseRank(), order_by=[F('total').desc()]),\r\n",
    "        creadores=GroupConcat('creado__username'),\r\n",
    "    )\r\n",
    "    .order_by('ranking')\r\n",
    "): print(value)"
   ]
  },
  {
   "cell_type": "markdown",
   "id": "f835afa5",
   "metadata": {},
   "source": [
    "# Ranking de productos en ventas"
   ]
  },
  {
   "cell_type": "code",
   "execution_count": 7,
   "id": "fc0e6e2f",
   "metadata": {},
   "outputs": [
    {
     "name": "stdout",
     "output_type": "stream",
     "text": [
      "{'cotizacion__productos__nombre': 'Producto 10', 'cantidad': 6, 'total': 992.0, 'ranking': 1}\n",
      "{'cotizacion__productos__nombre': 'Producto 11', 'cantidad': 3, 'total': 902.0, 'ranking': 2}\n",
      "{'cotizacion__productos__nombre': 'Producto 1', 'cantidad': 4, 'total': 783.0, 'ranking': 3}\n",
      "{'cotizacion__productos__nombre': 'Producto 2', 'cantidad': 2, 'total': 552.0, 'ranking': 4}\n",
      "{'cotizacion__productos__nombre': 'Producto 5', 'cantidad': 2, 'total': 509.0, 'ranking': 5}\n",
      "{'cotizacion__productos__nombre': 'Producto 13', 'cantidad': 5, 'total': 348.0, 'ranking': 6}\n",
      "{'cotizacion__productos__nombre': 'Producto 3', 'cantidad': 4, 'total': 335.0, 'ranking': 7}\n",
      "{'cotizacion__productos__nombre': 'Producto 0', 'cantidad': 5, 'total': 304.0, 'ranking': 8}\n",
      "{'cotizacion__productos__nombre': 'Producto 8', 'cantidad': 5, 'total': 262.0, 'ranking': 9}\n",
      "{'cotizacion__productos__nombre': 'Producto 6', 'cantidad': 5, 'total': 246.0, 'ranking': 10}\n",
      "{'cotizacion__productos__nombre': 'Producto 7', 'cantidad': 2, 'total': 188.0, 'ranking': 11}\n",
      "{'cotizacion__productos__nombre': 'Producto 9', 'cantidad': 2, 'total': 111.0, 'ranking': 12}\n",
      "{'cotizacion__productos__nombre': 'Producto 12', 'cantidad': 2, 'total': 93.0, 'ranking': 13}\n",
      "{'cotizacion__productos__nombre': 'Producto 4', 'cantidad': 3, 'total': 26.0, 'ranking': 14}\n"
     ]
    }
   ],
   "source": [
    "multiplicacion = Round(F('cotizacion__productos__precio') * F('cotizacion__productos__cantidad'))\r\n",
    "for value in (\r\n",
    "    ventas\r\n",
    "    .values('cotizacion__productos__nombre')\r\n",
    "    .annotate(\r\n",
    "        cantidad=Count('id'),\r\n",
    "        #min=Min(multiplicacion),\r\n",
    "        #min_producto=Min(Round(F('cotizacion__productos__precio'))),\r\n",
    "        #max=Max(multiplicacion),\r\n",
    "        #max_cantidad=Max(F('cotizacion__productos__cantidad')),\r\n",
    "        #max_producto=Max(Round(F('cotizacion__productos__precio'))),\r\n",
    "        #promedio=Round(Avg(multiplicacion)),\r\n",
    "        total=Sum(multiplicacion),\r\n",
    "        ranking=Window(expression=DenseRank(), order_by=[F('total').desc()]),\r\n",
    "#        creadores=GroupConcat('creado__username'),\r\n",
    "    )\r\n",
    "    .order_by('ranking')\r\n",
    "): print(value)"
   ]
  },
  {
   "cell_type": "markdown",
   "id": "ef249411",
   "metadata": {},
   "source": [
    "# Por forma de pago"
   ]
  },
  {
   "cell_type": "code",
   "execution_count": 8,
   "id": "236b3a44",
   "metadata": {},
   "outputs": [
    {
     "name": "stdout",
     "output_type": "stream",
     "text": [
      "{'forma_de_pago__multiplicador': 1, 'forma_de_pago__valor': 10.0, 'cantidad': 17, 'total': 1730.0, 'total_con_forma_de_pago': 1904.0, 'ranking': 1, 'creadores': 'usuario 0,usuario 0,usuario 0,usuario 0,usuario 0,usuario 0,usuario 0,usuario 4,usuario 4,usuario 4,usuario 4,usuario 4,usuario 4,usuario 4,usuario 4,usuario 4,usuario 4'}\n",
      "{'forma_de_pago__multiplicador': -1, 'forma_de_pago__valor': 20.0, 'cantidad': 10, 'total': 1647.0, 'total_con_forma_de_pago': 1317.0, 'ranking': 2, 'creadores': 'usuario 5,usuario 5,usuario 5,usuario 5,usuario 5,usuario 5,usuario 5,usuario 5,usuario 5,usuario 5'}\n",
      "{'forma_de_pago__multiplicador': 1, 'forma_de_pago__valor': 20.0, 'cantidad': 8, 'total': 913.0, 'total_con_forma_de_pago': 1095.0, 'ranking': 3, 'creadores': 'usuario 1,usuario 1,usuario 1,usuario 1,usuario 1,usuario 1,usuario 1,usuario 1'}\n",
      "{'forma_de_pago__multiplicador': -1, 'forma_de_pago__valor': 5.0, 'cantidad': 10, 'total': 755.0, 'total_con_forma_de_pago': 718.0, 'ranking': 4, 'creadores': 'usuario 3,usuario 3,usuario 3,usuario 3,usuario 3,usuario 3,usuario 3,usuario 3,usuario 3,usuario 3'}\n",
      "{'forma_de_pago__multiplicador': -1, 'forma_de_pago__valor': 0.0, 'cantidad': 5, 'total': 606.0, 'total_con_forma_de_pago': 606.0, 'ranking': 5, 'creadores': 'usuario 1,usuario 1,usuario 1,usuario 1,usuario 1'}\n"
     ]
    }
   ],
   "source": [
    "total = Round(F('cotizacion__productos__precio') * F('cotizacion__productos__cantidad'))\r\n",
    "total_con_forma_de_pago = Round(total + total * F('forma_de_pago__multiplicador') * F('forma_de_pago__valor') / 100)\r\n",
    "for valor in (\r\n",
    "    ventas\r\n",
    "    .values('forma_de_pago__multiplicador', 'forma_de_pago__valor')\r\n",
    "    .annotate(\r\n",
    "        cantidad=Count('id'),\r\n",
    "        total=Sum(total),\r\n",
    "        total_con_forma_de_pago=ExpressionWrapper(Sum(total_con_forma_de_pago), FloatField()),\r\n",
    "        ranking=Window(expression=DenseRank(), order_by=[F('total').desc()]),\r\n",
    "        creadores=GroupConcat('creado__username'),\r\n",
    "    )\r\n",
    "    .order_by('ranking')\r\n",
    "): print(valor)"
   ]
  },
  {
   "cell_type": "markdown",
   "id": "6fd52a2e",
   "metadata": {},
   "source": [
    "# Cotizaciones por dia"
   ]
  },
  {
   "cell_type": "code",
   "execution_count": 9,
   "id": "b5ef79f6",
   "metadata": {},
   "outputs": [
    {
     "name": "stdout",
     "output_type": "stream",
     "text": [
      "{'date': datetime.date(2021, 7, 27), 'count': 1}\n",
      "{'date': datetime.date(2021, 7, 26), 'count': 1}\n",
      "{'date': datetime.date(2021, 7, 25), 'count': 2}\n",
      "{'date': datetime.date(2021, 7, 24), 'count': 2}\n"
     ]
    }
   ],
   "source": [
    "for v in (\r\n",
    "    cotizaciones\r\n",
    "    .cotizaciones_por_dia()\r\n",
    "): print(v)"
   ]
  },
  {
   "cell_type": "code",
   "execution_count": 10,
   "id": "df385cc3",
   "metadata": {},
   "outputs": [
    {
     "data": {
      "text/plain": [
       "<CotizacionQueryset [{'productos__nombre': 'Producto 10', 'cantidad': 6, 'total': 990.2370844671439, 'ranking': 1, 'creadores': 'usuario 0,usuario 3,usuario 4'}, {'productos__nombre': 'Producto 11', 'cantidad': 3, 'total': 901.5251165633391, 'ranking': 2, 'creadores': 'lautaro,usuario 3,usuario 4'}, {'productos__nombre': 'Producto 1', 'cantidad': 4, 'total': 783.017031518781, 'ranking': 3, 'creadores': 'lautaro,usuario 0,usuario 3'}, {'productos__nombre': 'Producto 2', 'cantidad': 2, 'total': 552.0207134106386, 'ranking': 4, 'creadores': 'usuario 1,usuario 3'}, {'productos__nombre': 'Producto 5', 'cantidad': 2, 'total': 508.9299125825958, 'ranking': 5, 'creadores': 'usuario 1,usuario 3'}, {'productos__nombre': 'Producto 13', 'cantidad': 5, 'total': 346.9551907843867, 'ranking': 6, 'creadores': 'lautaro,usuario 0,usuario 4'}, {'productos__nombre': 'Producto 3', 'cantidad': 4, 'total': 334.83972620114974, 'ranking': 7, 'creadores': 'usuario 3,usuario 4'}, {'productos__nombre': 'Producto 0', 'cantidad': 5, 'total': 304.4553197459108, 'ranking': 8, 'creadores': 'usuario 0,usuario 3,usuario 4'}, {'productos__nombre': 'Producto 8', 'cantidad': 5, 'total': 260.90219605975767, 'ranking': 9, 'creadores': 'lautaro,usuario 1,usuario 3'}, {'productos__nombre': 'Producto 6', 'cantidad': 5, 'total': 247.12471653680717, 'ranking': 10, 'creadores': 'lautaro,usuario 0,usuario 3,usuario 4'}, {'productos__nombre': 'Producto 7', 'cantidad': 2, 'total': 188.11342774200506, 'ranking': 11, 'creadores': 'usuario 1,usuario 3'}, {'productos__nombre': 'Producto 9', 'cantidad': 2, 'total': 110.38411431409338, 'ranking': 12, 'creadores': 'usuario 0,usuario 4'}, {'productos__nombre': 'Producto 12', 'cantidad': 2, 'total': 92.69400655807588, 'ranking': 13, 'creadores': 'usuario 0,usuario 3'}, {'productos__nombre': 'Producto 4', 'cantidad': 3, 'total': 26.761403861971115, 'ranking': 14, 'creadores': 'lautaro,usuario 1'}]>"
      ]
     },
     "execution_count": 10,
     "metadata": {},
     "output_type": "execute_result"
    }
   ],
   "source": [
    "cotizaciones.ranking_productos()"
   ]
  },
  {
   "cell_type": "code",
   "execution_count": 11,
   "id": "2a97553e",
   "metadata": {},
   "outputs": [
    {
     "data": {
      "text/plain": [
       "<QuerySet [{'id': 1, 'multiplicador': -1, 'valor': 5.0, 'temp': 'Negativo'}, {'id': 2, 'multiplicador': 1, 'valor': 5.0, 'temp': 'Positivo'}, {'id': 3, 'multiplicador': -1, 'valor': 10.0, 'temp': 'Negativo'}, {'id': 4, 'multiplicador': 1, 'valor': 10.0, 'temp': 'Positivo'}, {'id': 5, 'multiplicador': -1, 'valor': 15.0, 'temp': 'Negativo'}, {'id': 6, 'multiplicador': 1, 'valor': 15.0, 'temp': 'Positivo'}, {'id': 7, 'multiplicador': -1, 'valor': 20.0, 'temp': 'Negativo'}, {'id': 8, 'multiplicador': 1, 'valor': 20.0, 'temp': 'Positivo'}, {'id': 9, 'multiplicador': -1, 'valor': 0.0, 'temp': 'Negativo'}, {'id': 10, 'multiplicador': 1, 'valor': 0.0, 'temp': 'Positivo'}]>"
      ]
     },
     "execution_count": 11,
     "metadata": {},
     "output_type": "execute_result"
    }
   ],
   "source": [
    "FormaDePago.objects.annotate(temp=WithChoices(FormaDePago.Multiplicador.choices, 'multiplicador')).values()"
   ]
  },
  {
   "cell_type": "code",
   "execution_count": null,
   "id": "be8aaabf",
   "metadata": {},
   "outputs": [],
   "source": []
  }
 ],
 "metadata": {
  "interpreter": {
   "hash": "c9c7875262f549fca3c9f5413ceef6703cc51e7ef7cb79c505ed52991921c1c5"
  },
  "kernelspec": {
   "display_name": "Python 3 (ipykernel)",
   "language": "python",
   "name": "python3"
  },
  "language_info": {
   "codemirror_mode": {
    "name": "ipython",
    "version": 3
   },
   "file_extension": ".py",
   "mimetype": "text/x-python",
   "name": "python",
   "nbconvert_exporter": "python",
   "pygments_lexer": "ipython3",
   "version": "3.8.4"
  },
  "widgets": {
   "application/vnd.jupyter.widget-state+json": {
    "state": {},
    "version_major": 2,
    "version_minor": 0
   }
  }
 },
 "nbformat": 4,
 "nbformat_minor": 5
}
