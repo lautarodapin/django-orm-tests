{
 "cells": [
  {
   "cell_type": "code",
   "execution_count": 3,
   "id": "7ddb5123-71e8-457b-861f-9be03d101177",
   "metadata": {},
   "outputs": [],
   "source": [
    "cotizaciones = Cotizacion.objects.all()"
   ]
  },
  {
   "cell_type": "code",
   "execution_count": 4,
   "id": "e74a733f-9571-4878-a5b9-41afeda731fc",
   "metadata": {},
   "outputs": [
    {
     "data": {
      "text/plain": [
       "<QuerySet [{'creado': 1, 'cantidad': 35, 'total': 7342.681270029594}, {'creado': 14, 'cantidad': 16, 'total': 4320.68974773213}, {'creado': 15, 'cantidad': 15, 'total': 3294.968066747848}, {'creado': 17, 'cantidad': 8, 'total': 993.4505122017665}, {'creado': 18, 'cantidad': 55, 'total': 9008.274313892143}, {'creado': 19, 'cantidad': 21, 'total': 5723.696784931066}]>"
      ]
     },
     "execution_count": 4,
     "metadata": {},
     "output_type": "execute_result"
    }
   ],
   "source": [
    "(\n",
    "    cotizaciones\n",
    "    .values('creado')\n",
    "    .order_by('creado')\n",
    "    .annotate(\n",
    "        cantidad=Count('productos'),\n",
    "        total=Sum(F('productos__precio') * F('productos__cantidad')),\n",
    "    )\n",
    ")"
   ]
  }
 ],
 "metadata": {
  "kernelspec": {
   "display_name": "Django Shell-Plus",
   "language": "python",
   "name": "django_extensions"
  },
  "language_info": {
   "codemirror_mode": {
    "name": "ipython",
    "version": 3
   },
   "file_extension": ".py",
   "mimetype": "text/x-python",
   "name": "python",
   "nbconvert_exporter": "python",
   "pygments_lexer": "ipython3",
   "version": "3.8.4"
  }
 },
 "nbformat": 4,
 "nbformat_minor": 5
}
