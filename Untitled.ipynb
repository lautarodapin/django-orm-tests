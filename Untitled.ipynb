{
 "cells": [
  {
   "cell_type": "code",
   "execution_count": 89,
   "id": "a93e94f5-33a3-4ca2-be68-1ece18823c14",
   "metadata": {},
   "outputs": [],
   "source": [
    "import pandas as pd\n",
    "from django.db.models.functions import *\n",
    "from django.db.models.expressions import *\n",
    "from django.db.models.fields import *\n",
    "from django.db.models import *"
   ]
  },
  {
   "cell_type": "code",
   "execution_count": 75,
   "id": "49e935ca-f2c2-4b22-818c-fd4a00ac8734",
   "metadata": {},
   "outputs": [],
   "source": [
    "\n",
    "class GroupConcat(Aggregate):\n",
    "    function = 'GROUP_CONCAT'\n",
    "    template = '%(function)s(%(distinct)s%(expressions)s)'\n",
    "    allow_distinct = True\n",
    "    def __init__(self, expression, distinct=False, **extra):\n",
    "        super().__init__(\n",
    "            expression,\n",
    "            distinct='DISTINCT ' if distinct else '',\n",
    "            output_field=CharField(),\n",
    "            **extra)"
   ]
  },
  {
   "cell_type": "code",
   "execution_count": 76,
   "id": "7ddb5123-71e8-457b-861f-9be03d101177",
   "metadata": {},
   "outputs": [],
   "source": [
    "cotizaciones = Cotizacion.objects.all()\n",
    "ventas = Venta.objects.all()"
   ]
  },
  {
   "cell_type": "markdown",
   "id": "159999ab-3a28-46ea-b476-240690f9aae6",
   "metadata": {},
   "source": [
    "# Ranking de cotizaciones por creadores"
   ]
  },
  {
   "cell_type": "code",
   "execution_count": 77,
   "id": "e74a733f-9571-4878-a5b9-41afeda731fc",
   "metadata": {},
   "outputs": [
    {
     "name": "stdout",
     "output_type": "stream",
     "text": [
      "{'creado': 31, 'cantidad': 17, 'total': 3685.2030859177835, 'ranking': 1, 'ids': 'Producto 10,Producto 4,Producto 1,Producto 2,Producto 8,Producto 11,Producto 12,Producto 7,Producto 9,Producto 0'}\n",
      "{'creado': 39, 'cantidad': 10, 'total': 2207.58582078877, 'ranking': 2, 'ids': 'Producto 12,Producto 9,Producto 13,Producto 4,Producto 1,Producto 2,Producto 6,Producto 7,Producto 10'}\n",
      "{'creado': 35, 'cantidad': 18, 'total': 1480.8346894661775, 'ranking': 3, 'ids': 'Producto 3,Producto 9,Producto 0,Producto 5,Producto 13,Producto 14,Producto 2,Producto 12,Producto 1,Producto 8'}\n",
      "{'creado': 32, 'cantidad': 6, 'total': 1247.5340456541974, 'ranking': 4, 'ids': 'Producto 4,Producto 10,Producto 9,Producto 8,Producto 7'}\n",
      "{'creado': 38, 'cantidad': 5, 'total': 1144.9937726160022, 'ranking': 5, 'ids': 'Producto 11,Producto 13,Producto 5,Producto 4,Producto 6'}\n",
      "{'creado': 1, 'cantidad': 7, 'total': 1102.5506010550912, 'ranking': 6, 'ids': 'Producto 10,Producto 12,Producto 3,Producto 11'}\n",
      "{'creado': 37, 'cantidad': 9, 'total': 846.7518963497897, 'ranking': 7, 'ids': 'Producto 13,Producto 12,Producto 11,Producto 0,Producto 3,Producto 6'}\n",
      "{'creado': 36, 'cantidad': 10, 'total': 835.1755887425772, 'ranking': 8, 'ids': 'Producto 1,Producto 8,Producto 5,Producto 9,Producto 6,Producto 13,Producto 2'}\n"
     ]
    }
   ],
   "source": [
    "for value in (\n",
    "    cotizaciones\n",
    "    .values('creado')\n",
    "    .annotate(\n",
    "        cantidad=Count('productos'),\n",
    "        total=Sum(F('productos__precio') * F('productos__cantidad')),\n",
    "        ranking=Window(expression=DenseRank(), order_by=[F('total').desc()]),\n",
    "        ids=GroupConcat('productos__nombre', distinct=True),\n",
    "    )\n",
    "    .order_by('ranking')\n",
    "):print(value)"
   ]
  },
  {
   "cell_type": "markdown",
   "id": "1d8fa5b1-f366-4b52-b818-2fae9f9eba4a",
   "metadata": {},
   "source": [
    "# Ranking de ventas por creadores"
   ]
  },
  {
   "cell_type": "code",
   "execution_count": 5,
   "id": "d4b96a87-8b2b-4af4-bf55-932635628f31",
   "metadata": {},
   "outputs": [
    {
     "name": "stdout",
     "output_type": "stream",
     "text": [
      "{'creado': 35, 'cantidad': 18, 'total': 3866.1341614113644, 'ranking': 1}\n",
      "{'creado': 1, 'cantidad': 12, 'total': 2247.5443736710927, 'ranking': 2}\n",
      "{'creado': 33, 'cantidad': 16, 'total': 2082.709634396775, 'ranking': 3}\n",
      "{'creado': 37, 'cantidad': 9, 'total': 2026.654745295189, 'ranking': 4}\n",
      "{'creado': 31, 'cantidad': 18, 'total': 1625.5644819671845, 'ranking': 5}\n",
      "{'creado': 34, 'cantidad': 9, 'total': 702.0221038487826, 'ranking': 6}\n"
     ]
    }
   ],
   "source": [
    "for value in (\n",
    "    ventas\n",
    "    .values('creado')\n",
    "    .order_by('creado')\n",
    "    .annotate(\n",
    "        cantidad=Count('cotizacion__productos'),\n",
    "        total=Sum(F('cotizacion__productos__precio') * F('cotizacion__productos__cantidad')),\n",
    "        ranking=Window(expression=DenseRank(), order_by=[F('total').desc()]),\n",
    "    )\n",
    "    .order_by('ranking')\n",
    "):print(value)"
   ]
  },
  {
   "cell_type": "markdown",
   "id": "ff8aaee3-2521-4d84-b8ed-f9b820654da6",
   "metadata": {},
   "source": [
    "# Ranking de productos en cotizaciones"
   ]
  },
  {
   "cell_type": "code",
   "execution_count": 6,
   "id": "505d9363-0866-4099-9868-47218042e802",
   "metadata": {},
   "outputs": [
    {
     "name": "stdout",
     "output_type": "stream",
     "text": [
      "{'productos__nombre': 'Producto 10', 'cantidad': 7, 'total': 2443.746778579293, 'ranking': 1, 'creadores': 'lautaro,usuario 0,usuario 1,usuario 8'}\n",
      "{'productos__nombre': 'Producto 4', 'cantidad': 7, 'total': 2170.440423798659, 'ranking': 2, 'creadores': 'usuario 0,usuario 1,usuario 7,usuario 8'}\n",
      "{'productos__nombre': 'Producto 7', 'cantidad': 4, 'total': 1383.2331586622802, 'ranking': 3, 'creadores': 'usuario 0,usuario 1,usuario 8'}\n",
      "{'productos__nombre': 'Producto 1', 'cantidad': 6, 'total': 1268.9970314846296, 'ranking': 4, 'creadores': 'usuario 0,usuario 4,usuario 5,usuario 8'}\n",
      "{'productos__nombre': 'Producto 6', 'cantidad': 4, 'total': 1144.0631963545884, 'ranking': 5, 'creadores': 'usuario 5,usuario 6,usuario 7,usuario 8'}\n",
      "{'productos__nombre': 'Producto 3', 'cantidad': 7, 'total': 1138.779107118584, 'ranking': 6, 'creadores': 'lautaro,usuario 4,usuario 6'}\n",
      "{'productos__nombre': 'Producto 5', 'cantidad': 4, 'total': 1133.0569371039942, 'ranking': 7, 'creadores': 'usuario 4,usuario 5,usuario 7'}\n",
      "{'productos__nombre': 'Producto 11', 'cantidad': 6, 'total': 765.1610885875933, 'ranking': 8, 'creadores': 'lautaro,usuario 0,usuario 6,usuario 7'}\n",
      "{'productos__nombre': 'Producto 2', 'cantidad': 10, 'total': 285.33703622041236, 'ranking': 9, 'creadores': 'usuario 0,usuario 4,usuario 5,usuario 8'}\n",
      "{'productos__nombre': 'Producto 12', 'cantidad': 5, 'total': 251.03160745702252, 'ranking': 10, 'creadores': 'lautaro,usuario 0,usuario 4,usuario 6,usuario 8'}\n",
      "{'productos__nombre': 'Producto 8', 'cantidad': 6, 'total': 167.35678825058045, 'ranking': 11, 'creadores': 'usuario 0,usuario 1,usuario 4,usuario 5'}\n",
      "{'productos__nombre': 'Producto 0', 'cantidad': 4, 'total': 148.69578648215844, 'ranking': 12, 'creadores': 'usuario 0,usuario 4,usuario 6'}\n",
      "{'productos__nombre': 'Producto 14', 'cantidad': 1, 'total': 92.98749692813226, 'ranking': 13, 'creadores': 'usuario 4'}\n",
      "{'productos__nombre': 'Producto 13', 'cantidad': 5, 'total': 85.46303935936305, 'ranking': 14, 'creadores': 'usuario 4,usuario 5,usuario 6,usuario 7,usuario 8'}\n",
      "{'productos__nombre': 'Producto 9', 'cantidad': 6, 'total': 72.28002420309748, 'ranking': 15, 'creadores': 'usuario 0,usuario 1,usuario 4,usuario 5,usuario 8'}\n"
     ]
    }
   ],
   "source": [
    "for value in (\n",
    "    cotizaciones\n",
    "    .values('productos__nombre')\n",
    "    .annotate(\n",
    "        cantidad=Count('id'),\n",
    "        total=Sum(F('productos__precio') * F('productos__cantidad')),\n",
    "        ranking=Window(expression=DenseRank(), order_by=[F('total').desc()]),\n",
    "        creadores=GroupConcat('creado__username'),\n",
    "    )\n",
    "    .order_by('ranking')\n",
    "): print(value)"
   ]
  },
  {
   "cell_type": "markdown",
   "id": "ff583ba5-68fe-4b58-859d-33cbf41cda00",
   "metadata": {},
   "source": [
    "# Ranking de productos en ventas"
   ]
  },
  {
   "cell_type": "code",
   "execution_count": 90,
   "id": "1abe6181-58cd-4d3f-8a1c-d67993edf61f",
   "metadata": {},
   "outputs": [
    {
     "name": "stdout",
     "output_type": "stream",
     "text": [
      "{'cotizacion__productos__nombre': 'Producto 10', 'cantidad': 7, 'desviacion': 130.19483045632427, 'total': 2444.0, 'ranking': 1}\n",
      "{'cotizacion__productos__nombre': 'Producto 4', 'cantidad': 7, 'desviacion': 106.51683779897841, 'total': 2169.0, 'ranking': 2}\n",
      "{'cotizacion__productos__nombre': 'Producto 7', 'cantidad': 4, 'desviacion': 76.28237017817419, 'total': 1384.0, 'ranking': 3}\n",
      "{'cotizacion__productos__nombre': 'Producto 1', 'cantidad': 6, 'desviacion': 67.06153890271233, 'total': 1269.0, 'ranking': 4}\n",
      "{'cotizacion__productos__nombre': 'Producto 6', 'cantidad': 4, 'desviacion': 135.0573952066306, 'total': 1144.0, 'ranking': 5}\n",
      "{'cotizacion__productos__nombre': 'Producto 3', 'cantidad': 7, 'desviacion': 53.02752462020963, 'total': 1139.0, 'ranking': 6}\n",
      "{'cotizacion__productos__nombre': 'Producto 5', 'cantidad': 4, 'desviacion': 90.56075308874148, 'total': 1134.0, 'ranking': 7}\n",
      "{'cotizacion__productos__nombre': 'Producto 11', 'cantidad': 6, 'desviacion': 50.5623927000647, 'total': 764.0, 'ranking': 8}\n",
      "{'cotizacion__productos__nombre': 'Producto 2', 'cantidad': 10, 'desviacion': 13.227244611029162, 'total': 288.0, 'ranking': 9}\n",
      "{'cotizacion__productos__nombre': 'Producto 12', 'cantidad': 5, 'desviacion': 28.456282258931857, 'total': 251.0, 'ranking': 10}\n",
      "{'cotizacion__productos__nombre': 'Producto 8', 'cantidad': 6, 'desviacion': 16.165807537309522, 'total': 168.0, 'ranking': 11}\n",
      "{'cotizacion__productos__nombre': 'Producto 0', 'cantidad': 4, 'desviacion': 17.073371078963874, 'total': 148.0, 'ranking': 12}\n",
      "{'cotizacion__productos__nombre': 'Producto 14', 'cantidad': 1, 'desviacion': 0.0, 'total': 93.0, 'ranking': 13}\n",
      "{'cotizacion__productos__nombre': 'Producto 13', 'cantidad': 5, 'desviacion': 7.605261336732617, 'total': 87.0, 'ranking': 14}\n",
      "{'cotizacion__productos__nombre': 'Producto 9', 'cantidad': 6, 'desviacion': 4.561310727801336, 'total': 71.0, 'ranking': 15}\n"
     ]
    }
   ],
   "source": [
    "multiplicacion = Round(F('cotizacion__productos__precio') * F('cotizacion__productos__cantidad'))\n",
    "for value in (\n",
    "    ventas\n",
    "    .values('cotizacion__productos__nombre')\n",
    "    .annotate(\n",
    "        cantidad=Count('id'),\n",
    "        #min=Min(multiplicacion),\n",
    "        #min_producto=Min(Round(F('cotizacion__productos__precio'))),\n",
    "        #max=Max(multiplicacion),\n",
    "        #max_cantidad=Max(F('cotizacion__productos__cantidad')),\n",
    "        #max_producto=Max(Round(F('cotizacion__productos__precio'))),\n",
    "        #promedio=Round(Avg(multiplicacion)),\n",
    "        total=Sum(multiplicacion),\n",
    "        ranking=Window(expression=DenseRank(), order_by=[F('total').desc()]),\n",
    "#        creadores=GroupConcat('creado__username'),\n",
    "    )\n",
    "    .order_by('ranking')\n",
    "): print(value)"
   ]
  },
  {
   "cell_type": "markdown",
   "id": "104b73e0-f9f7-41bb-b4f3-bcddb7e26f33",
   "metadata": {},
   "source": [
    "# Por forma de pago"
   ]
  },
  {
   "cell_type": "code",
   "execution_count": 8,
   "id": "150f4d61-d704-4e49-b21b-c9a2d1833065",
   "metadata": {},
   "outputs": [
    {
     "name": "stdout",
     "output_type": "stream",
     "text": [
      "{'forma_de_pago__multiplicador': -1, 'forma_de_pago__valor': 20.0, 'cantidad': 20, 'total': 4420.0, 'total_con_forma_de_pago': 3537.0, 'ranking': 1, 'creadores': 'usuario 2,lautaro,usuario 6'}\n",
      "{'forma_de_pago__multiplicador': -1, 'forma_de_pago__valor': 5.0, 'cantidad': 17, 'total': 2504.0, 'total_con_forma_de_pago': 2379.0, 'ranking': 2, 'creadores': 'usuario 4,usuario 0'}\n",
      "{'forma_de_pago__multiplicador': 1, 'forma_de_pago__valor': 15.0, 'cantidad': 10, 'total': 2206.0, 'total_con_forma_de_pago': 2539.0, 'ranking': 3, 'creadores': 'usuario 4'}\n",
      "{'forma_de_pago__multiplicador': -1, 'forma_de_pago__valor': 15.0, 'cantidad': 19, 'total': 1617.0, 'total_con_forma_de_pago': 1376.0, 'ranking': 4, 'creadores': 'usuario 2,usuario 0'}\n",
      "{'forma_de_pago__multiplicador': -1, 'forma_de_pago__valor': 0.0, 'cantidad': 7, 'total': 1103.0, 'total_con_forma_de_pago': 1103.0, 'ranking': 5, 'creadores': 'lautaro'}\n",
      "{'forma_de_pago__multiplicador': -1, 'forma_de_pago__valor': 10.0, 'cantidad': 9, 'total': 703.0, 'total_con_forma_de_pago': 634.0, 'ranking': 6, 'creadores': 'usuario 3'}\n"
     ]
    }
   ],
   "source": [
    "total = Round(F('cotizacion__productos__precio') * F('cotizacion__productos__cantidad'))\n",
    "total_con_forma_de_pago = Round(total + total * F('forma_de_pago__multiplicador') * F('forma_de_pago__valor') / 100)\n",
    "for valor in (\n",
    "    ventas\n",
    "    .values('forma_de_pago__multiplicador', 'forma_de_pago__valor')\n",
    "    .annotate(\n",
    "        cantidad=Count('id'),\n",
    "        total=Sum(total),\n",
    "        total_con_forma_de_pago=ExpressionWrapper(Sum(total_con_forma_de_pago), FloatField()),\n",
    "        ranking=Window(expression=DenseRank(), order_by=[F('total').desc()]),\n",
    "        creadores=GroupConcat('creado__username'),\n",
    "    )\n",
    "    .order_by('ranking')\n",
    "): print(valor)"
   ]
  },
  {
   "cell_type": "markdown",
   "id": "1a047ee1-2e4b-4894-bc9a-e97d7c205adc",
   "metadata": {},
   "source": [
    "# Cotizaciones por dia"
   ]
  },
  {
   "cell_type": "code",
   "execution_count": 22,
   "id": "f38c1fb5-e875-4d49-8136-baefefc7392c",
   "metadata": {},
   "outputs": [
    {
     "name": "stdout",
     "output_type": "stream",
     "text": [
      "{'fake_date__date': datetime.date(2021, 7, 29), 'date': datetime.date(2021, 7, 29), 'count': 1}\n",
      "{'fake_date__date': datetime.date(2021, 7, 28), 'date': datetime.date(2021, 7, 28), 'count': 1}\n",
      "{'fake_date__date': datetime.date(2021, 7, 27), 'date': datetime.date(2021, 7, 27), 'count': 1}\n",
      "{'fake_date__date': datetime.date(2021, 7, 26), 'date': datetime.date(2021, 7, 26), 'count': 3}\n",
      "{'fake_date__date': datetime.date(2021, 7, 25), 'date': datetime.date(2021, 7, 25), 'count': 1}\n",
      "{'fake_date__date': datetime.date(2021, 7, 24), 'date': datetime.date(2021, 7, 24), 'count': 3}\n"
     ]
    }
   ],
   "source": [
    "for v in (\n",
    "    cotizaciones\n",
    "    .values('fake_date__date')\n",
    "    .annotate(\n",
    "        date=TruncDate('fake_date'),\n",
    "        count=Count('id'),\n",
    "    )\n",
    "    .order_by('-date')\n",
    "): print(v)"
   ]
  },
  {
   "cell_type": "code",
   "execution_count": 13,
   "id": "5540c071-2f56-44a4-9abc-1c5f68c4d526",
   "metadata": {},
   "outputs": [
    {
     "data": {
      "text/plain": [
       "3"
      ]
     },
     "execution_count": 13,
     "metadata": {},
     "output_type": "execute_result"
    }
   ],
   "source": []
  },
  {
   "cell_type": "code",
   "execution_count": null,
   "id": "d6ae6355-2dcd-4f97-9302-5769972b5e49",
   "metadata": {},
   "outputs": [],
   "source": []
  }
 ],
 "metadata": {
  "kernelspec": {
   "display_name": "Django Shell-Plus",
   "language": "python",
   "name": "django_extensions"
  },
  "language_info": {
   "codemirror_mode": {
    "name": "ipython",
    "version": 3
   },
   "file_extension": ".py",
   "mimetype": "text/x-python",
   "name": "python",
   "nbconvert_exporter": "python",
   "pygments_lexer": "ipython3",
   "version": "3.9.6"
  },
  "widgets": {
   "application/vnd.jupyter.widget-state+json": {
    "state": {},
    "version_major": 2,
    "version_minor": 0
   }
  }
 },
 "nbformat": 4,
 "nbformat_minor": 5
}
