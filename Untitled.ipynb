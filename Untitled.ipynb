{
 "cells": [
  {
   "cell_type": "code",
   "execution_count": 219,
   "id": "a93e94f5-33a3-4ca2-be68-1ece18823c14",
   "metadata": {},
   "outputs": [],
   "source": [
    "import pandas as pd\n",
    "from django.db.models.functions import *\n",
    "from django.db.models.expressions import *\n",
    "from django.db.models.fields import *\n",
    "from django.db.models import Aggregate"
   ]
  },
  {
   "cell_type": "code",
   "execution_count": 220,
   "id": "49e935ca-f2c2-4b22-818c-fd4a00ac8734",
   "metadata": {},
   "outputs": [],
   "source": [
    "\n",
    "class GroupConcat(Aggregate):\n",
    "    function = 'GROUP_CONCAT'\n",
    "    template = '%(function)s(DISTINCT %(expressions)s)'\n",
    "\n",
    "    def __init__(self, expression, distinct=False, **extra):\n",
    "        super().__init__(\n",
    "            expression,\n",
    "            distinct='DISTINCT ' if distinct else '',\n",
    "            output_field=CharField(),\n",
    "            **extra)"
   ]
  },
  {
   "cell_type": "code",
   "execution_count": 221,
   "id": "7ddb5123-71e8-457b-861f-9be03d101177",
   "metadata": {},
   "outputs": [],
   "source": [
    "cotizaciones = Cotizacion.objects.all()\n",
    "ventas = Venta.objects.all()"
   ]
  },
  {
   "cell_type": "markdown",
   "id": "159999ab-3a28-46ea-b476-240690f9aae6",
   "metadata": {},
   "source": [
    "# Ranking de cotizaciones por creadores"
   ]
  },
  {
   "cell_type": "code",
   "execution_count": 222,
   "id": "e74a733f-9571-4878-a5b9-41afeda731fc",
   "metadata": {},
   "outputs": [
    {
     "name": "stdout",
     "output_type": "stream",
     "text": [
      "{'creado': 25, 'cantidad': 15, 'total': 2119.872695632822, 'ranking': 1, 'ids': 'Producto 9,Producto 7,Producto 8,Producto 10,Producto 11,Producto 2,Producto 4,Producto 0,Producto 3,Producto 5'}\n",
      "{'creado': 29, 'cantidad': 12, 'total': 1899.2247244460295, 'ranking': 2, 'ids': 'Producto 8,Producto 10,Producto 3,Producto 1,Producto 9,Producto 0,Producto 11'}\n",
      "{'creado': 23, 'cantidad': 10, 'total': 1601.2822409338035, 'ranking': 3, 'ids': 'Producto 7,Producto 5,Producto 11,Producto 6,Producto 2,Producto 3,Producto 1'}\n",
      "{'creado': 28, 'cantidad': 8, 'total': 1194.3351752639253, 'ranking': 4, 'ids': 'Producto 3,Producto 2,Producto 8,Producto 6,Producto 4,Producto 5'}\n",
      "{'creado': 1, 'cantidad': 9, 'total': 1117.3783567737994, 'ranking': 5, 'ids': 'Producto 2,Producto 10,Producto 7,Producto 11,Producto 8,Producto 6'}\n",
      "{'creado': 30, 'cantidad': 8, 'total': 973.3223022860932, 'ranking': 6, 'ids': 'Producto 0,Producto 9,Producto 3,Producto 4'}\n",
      "{'creado': 24, 'cantidad': 5, 'total': 620.3685477748242, 'ranking': 7, 'ids': 'Producto 0,Producto 2,Producto 9,Producto 1,Producto 3'}\n"
     ]
    }
   ],
   "source": [
    "for value in (\n",
    "    cotizaciones\n",
    "    .values('creado')\n",
    "    .annotate(\n",
    "        cantidad=Count('productos'),\n",
    "        total=Sum(F('productos__precio') * F('productos__cantidad')),\n",
    "        ranking=Window(expression=DenseRank(), order_by=[F('total').desc()]),\n",
    "        ids=GroupConcat('productos__nombre'),\n",
    "    )\n",
    "    .order_by('ranking')\n",
    "):print(value)"
   ]
  },
  {
   "cell_type": "markdown",
   "id": "1d8fa5b1-f366-4b52-b818-2fae9f9eba4a",
   "metadata": {},
   "source": [
    "# Ranking de ventas por creadores"
   ]
  },
  {
   "cell_type": "code",
   "execution_count": 223,
   "id": "d4b96a87-8b2b-4af4-bf55-932635628f31",
   "metadata": {},
   "outputs": [
    {
     "name": "stdout",
     "output_type": "stream",
     "text": [
      "{'creado': 24, 'cantidad': 18, 'total': 2574.6045432198966, 'ranking': 1}\n",
      "{'creado': 25, 'cantidad': 14, 'total': 2351.492301006226, 'ranking': 2}\n",
      "{'creado': 29, 'cantidad': 9, 'total': 1243.1202181211872, 'ranking': 3}\n",
      "{'creado': 26, 'cantidad': 9, 'total': 1117.3783567737994, 'ranking': 4}\n",
      "{'creado': 1, 'cantidad': 6, 'total': 876.7524775116347, 'ranking': 5}\n",
      "{'creado': 23, 'cantidad': 6, 'total': 742.0675987037287, 'ranking': 6}\n",
      "{'creado': 27, 'cantidad': 5, 'total': 620.3685477748242, 'ranking': 7}\n"
     ]
    }
   ],
   "source": [
    "for value in (\n",
    "    ventas\n",
    "    .values('creado')\n",
    "    .order_by('creado')\n",
    "    .annotate(\n",
    "        cantidad=Count('cotizacion__productos'),\n",
    "        total=Sum(F('cotizacion__productos__precio') * F('cotizacion__productos__cantidad')),\n",
    "        ranking=Window(expression=DenseRank(), order_by=[F('total').desc()]),\n",
    "    )\n",
    "    .order_by('ranking')\n",
    "):print(value)"
   ]
  },
  {
   "cell_type": "markdown",
   "id": "ff8aaee3-2521-4d84-b8ed-f9b820654da6",
   "metadata": {},
   "source": [
    "# Ranking de productos en cotizaciones"
   ]
  },
  {
   "cell_type": "code",
   "execution_count": 224,
   "id": "505d9363-0866-4099-9868-47218042e802",
   "metadata": {},
   "outputs": [
    {
     "name": "stdout",
     "output_type": "stream",
     "text": [
      "{'productos__nombre': 'Producto 11', 'cantidad': 6, 'total': 1406.8545314341507, 'ranking': 1, 'creadores': 'lautaro,usuario 0,usuario 2,usuario 6'}\n",
      "{'productos__nombre': 'Producto 7', 'cantidad': 5, 'total': 1372.8517039944588, 'ranking': 2, 'creadores': 'lautaro,usuario 0,usuario 2'}\n",
      "{'productos__nombre': 'Producto 0', 'cantidad': 5, 'total': 1312.0544112062169, 'ranking': 3, 'creadores': 'usuario 1,usuario 2,usuario 6,usuario 7'}\n",
      "{'productos__nombre': 'Producto 6', 'cantidad': 5, 'total': 1073.5997522991333, 'ranking': 4, 'creadores': 'lautaro,usuario 0,usuario 5'}\n",
      "{'productos__nombre': 'Producto 8', 'cantidad': 7, 'total': 956.9686840686236, 'ranking': 5, 'creadores': 'lautaro,usuario 2,usuario 5,usuario 6'}\n",
      "{'productos__nombre': 'Producto 1', 'cantidad': 3, 'total': 813.263969411453, 'ranking': 6, 'creadores': 'usuario 0,usuario 1,usuario 6'}\n",
      "{'productos__nombre': 'Producto 4', 'cantidad': 4, 'total': 699.8809886758604, 'ranking': 7, 'creadores': 'usuario 2,usuario 5,usuario 7'}\n",
      "{'productos__nombre': 'Producto 3', 'cantidad': 9, 'total': 625.2268126505684, 'ranking': 8, 'creadores': 'usuario 0,usuario 1,usuario 2,usuario 5,usuario 6,usuario 7'}\n",
      "{'productos__nombre': 'Producto 9', 'cantidad': 7, 'total': 504.45848594634293, 'ranking': 9, 'creadores': 'usuario 1,usuario 2,usuario 6,usuario 7'}\n",
      "{'productos__nombre': 'Producto 5', 'cantidad': 5, 'total': 391.3351445920055, 'ranking': 10, 'creadores': 'usuario 0,usuario 2,usuario 5'}\n",
      "{'productos__nombre': 'Producto 10', 'cantidad': 4, 'total': 300.12217582700885, 'ranking': 11, 'creadores': 'lautaro,usuario 2,usuario 6'}\n",
      "{'productos__nombre': 'Producto 2', 'cantidad': 7, 'total': 69.16738300547404, 'ranking': 12, 'creadores': 'lautaro,usuario 0,usuario 1,usuario 2,usuario 5'}\n"
     ]
    }
   ],
   "source": [
    "for value in (\n",
    "    cotizaciones\n",
    "    .values('productos__nombre')\n",
    "    .annotate(\n",
    "        cantidad=Count('id'),\n",
    "        total=Sum(F('productos__precio') * F('productos__cantidad')),\n",
    "        ranking=Window(expression=DenseRank(), order_by=[F('total').desc()]),\n",
    "        creadores=GroupConcat('creado__username'),\n",
    "    )\n",
    "    .order_by('ranking')\n",
    "): print(value)"
   ]
  },
  {
   "cell_type": "markdown",
   "id": "ff583ba5-68fe-4b58-859d-33cbf41cda00",
   "metadata": {},
   "source": [
    "# Ranking de productos en ventas"
   ]
  },
  {
   "cell_type": "code",
   "execution_count": 225,
   "id": "1abe6181-58cd-4d3f-8a1c-d67993edf61f",
   "metadata": {},
   "outputs": [
    {
     "name": "stdout",
     "output_type": "stream",
     "text": [
      "{'cotizacion__productos__nombre': 'Producto 11', 'cantidad': 6, 'total': 1406.8545314341507, 'ranking': 1, 'creadores': 'usuario 3,usuario 6,usuario 1,usuario 2'}\n",
      "{'cotizacion__productos__nombre': 'Producto 7', 'cantidad': 5, 'total': 1372.8517039944588, 'ranking': 2, 'creadores': 'usuario 3,usuario 6,usuario 1,lautaro'}\n",
      "{'cotizacion__productos__nombre': 'Producto 0', 'cantidad': 5, 'total': 1312.0544112062169, 'ranking': 3, 'creadores': 'usuario 4,usuario 6,usuario 1,usuario 2'}\n",
      "{'cotizacion__productos__nombre': 'Producto 6', 'cantidad': 5, 'total': 1073.5997522991333, 'ranking': 4, 'creadores': 'usuario 2,usuario 3,usuario 1'}\n",
      "{'cotizacion__productos__nombre': 'Producto 8', 'cantidad': 7, 'total': 956.9686840686236, 'ranking': 5, 'creadores': 'usuario 2,usuario 3,usuario 6,lautaro,usuario 0'}\n",
      "{'cotizacion__productos__nombre': 'Producto 1', 'cantidad': 3, 'total': 813.263969411453, 'ranking': 6, 'creadores': 'usuario 4,usuario 1,usuario 0'}\n",
      "{'cotizacion__productos__nombre': 'Producto 4', 'cantidad': 4, 'total': 699.8809886758604, 'ranking': 7, 'creadores': 'usuario 2,usuario 6,usuario 1'}\n",
      "{'cotizacion__productos__nombre': 'Producto 3', 'cantidad': 9, 'total': 625.2268126505683, 'ranking': 8, 'creadores': 'usuario 2,usuario 4,usuario 1,lautaro,usuario 0'}\n",
      "{'cotizacion__productos__nombre': 'Producto 9', 'cantidad': 7, 'total': 504.458485946343, 'ranking': 9, 'creadores': 'usuario 4,usuario 6,lautaro,usuario 1,usuario 2'}\n",
      "{'cotizacion__productos__nombre': 'Producto 5', 'cantidad': 5, 'total': 391.3351445920056, 'ranking': 10, 'creadores': 'usuario 2,usuario 1,lautaro'}\n",
      "{'cotizacion__productos__nombre': 'Producto 10', 'cantidad': 4, 'total': 300.12217582700885, 'ranking': 11, 'creadores': 'usuario 3,usuario 6,usuario 0'}\n",
      "{'cotizacion__productos__nombre': 'Producto 2', 'cantidad': 7, 'total': 69.16738300547404, 'ranking': 12, 'creadores': 'usuario 2,usuario 3,usuario 4,usuario 6,usuario 1'}\n"
     ]
    }
   ],
   "source": [
    "for value in (\n",
    "    ventas\n",
    "    .values('cotizacion__productos__nombre')\n",
    "    .annotate(\n",
    "        cantidad=Count('id'),\n",
    "        total=Sum(F('cotizacion__productos__precio') * F('cotizacion__productos__cantidad')),\n",
    "        ranking=Window(expression=DenseRank(), order_by=[F('total').desc()]),\n",
    "        creadores=GroupConcat('creado__username'),\n",
    "    )\n",
    "    .order_by('ranking')\n",
    "): print(value)"
   ]
  },
  {
   "cell_type": "markdown",
   "id": "104b73e0-f9f7-41bb-b4f3-bcddb7e26f33",
   "metadata": {},
   "source": [
    "# Por forma de pago"
   ]
  },
  {
   "cell_type": "code",
   "execution_count": 227,
   "id": "150f4d61-d704-4e49-b21b-c9a2d1833065",
   "metadata": {},
   "outputs": [
    {
     "name": "stdout",
     "output_type": "stream",
     "text": [
      "{'forma_de_pago__multiplicador': -1, 'forma_de_pago__valor': 0.0, 'cantidad': 34, 'total': 4530.0, 'total_con_forma_de_pago': 4530.0, 'ranking': 1, 'creadores': 'usuario 2,usuario 3,usuario 6,usuario 1'}\n",
      "{'forma_de_pago__multiplicador': -1, 'forma_de_pago__valor': 20.0, 'cantidad': 11, 'total': 1780.0, 'total_con_forma_de_pago': 1423.0, 'ranking': 2, 'creadores': 'usuario 4,usuario 2'}\n",
      "{'forma_de_pago__multiplicador': 1, 'forma_de_pago__valor': 20.0, 'cantidad': 10, 'total': 1603.0, 'total_con_forma_de_pago': 1924.0, 'ranking': 3, 'creadores': 'usuario 1'}\n",
      "{'forma_de_pago__multiplicador': 1, 'forma_de_pago__valor': 0.0, 'cantidad': 6, 'total': 878.0, 'total_con_forma_de_pago': 878.0, 'ranking': 4, 'creadores': 'lautaro'}\n",
      "{'forma_de_pago__multiplicador': 1, 'forma_de_pago__valor': 15.0, 'cantidad': 6, 'total': 743.0, 'total_con_forma_de_pago': 854.0, 'ranking': 5, 'creadores': 'usuario 0'}\n"
     ]
    }
   ],
   "source": [
    "total = Round(F('cotizacion__productos__precio') * F('cotizacion__productos__cantidad'))\n",
    "total_con_forma_de_pago = Round(total + total * F('forma_de_pago__multiplicador') * F('forma_de_pago__valor') / 100)\n",
    "for valor in (\n",
    "    ventas\n",
    "    .values('forma_de_pago__multiplicador', 'forma_de_pago__valor')\n",
    "    .annotate(\n",
    "        cantidad=Count('id'),\n",
    "        total=Sum(total),\n",
    "        total_con_forma_de_pago=ExpressionWrapper(Sum(total_con_forma_de_pago), FloatField()),\n",
    "        ranking=Window(expression=DenseRank(), order_by=[F('total').desc()]),\n",
    "        creadores=GroupConcat('creado__username'),\n",
    "    )\n",
    "    .order_by('ranking')\n",
    "): print(valor)"
   ]
  },
  {
   "cell_type": "code",
   "execution_count": null,
   "id": "ffa2dc75-8b76-4eb5-b9b4-6a0eb8ebfac1",
   "metadata": {},
   "outputs": [],
   "source": []
  },
  {
   "cell_type": "code",
   "execution_count": null,
   "id": "f38c1fb5-e875-4d49-8136-baefefc7392c",
   "metadata": {},
   "outputs": [],
   "source": []
  },
  {
   "cell_type": "code",
   "execution_count": null,
   "id": "5540c071-2f56-44a4-9abc-1c5f68c4d526",
   "metadata": {},
   "outputs": [],
   "source": []
  }
 ],
 "metadata": {
  "kernelspec": {
   "display_name": "Django Shell-Plus",
   "language": "python",
   "name": "django_extensions"
  },
  "language_info": {
   "codemirror_mode": {
    "name": "ipython",
    "version": 3
   },
   "file_extension": ".py",
   "mimetype": "text/x-python",
   "name": "python",
   "nbconvert_exporter": "python",
   "pygments_lexer": "ipython3",
   "version": "3.9.6"
  }
 },
 "nbformat": 4,
 "nbformat_minor": 5
}
