{
 "cells": [
  {
   "cell_type": "code",
   "execution_count": 1,
   "metadata": {},
   "outputs": [
    {
     "ename": "SyntaxError",
     "evalue": "invalid syntax (2720791603.py, line 17)",
     "output_type": "error",
     "traceback": [
      "\u001b[0;36m  File \u001b[0;32m\"/var/folders/8k/zc863l310wlfmw3c8yz_4sg80000gn/T/ipykernel_45426/2720791603.py\"\u001b[0;36m, line \u001b[0;32m17\u001b[0m\n\u001b[0;31m    from commerce\u001b[0m\n\u001b[0m                 ^\u001b[0m\n\u001b[0;31mSyntaxError\u001b[0m\u001b[0;31m:\u001b[0m invalid syntax\n"
     ]
    }
   ],
   "source": [
    "import django\r\n",
    "import os\r\n",
    "\r\n",
    "from django.core.wsgi import get_wsgi_application\r\n",
    "\r\n",
    "os.environ.setdefault('DJANGO_SETTINGS_MODULE', 'django_orm_tests.settings')\r\n",
    "\r\n",
    "application = get_wsgi_application()\r\n",
    "\r\n",
    "\r\n",
    "import pandas as pd\r\n",
    "from commerce.models import WithChoices\r\n",
    "from django.db.models.functions import *\r\n",
    "from django.db.models.expressions import *\r\n",
    "from django.db.models.fields import *\r\n",
    "from django.db.models import *\r\n",
    "from commerce\n",
    "from pprint import pprint.models import *"
   ]
  },
  {
   "cell_type": "code",
   "execution_count": 2,
   "metadata": {},
   "outputs": [],
   "source": [
    "from sqlalchemy import func, desc, asc, text\n",
    "from sqlalchemy.orm import aliased\n",
    "from sqlalchemy.sql import label, literal_column, literal"
   ]
  },
  {
   "cell_type": "code",
   "execution_count": 3,
   "metadata": {},
   "outputs": [
    {
     "data": {
      "text/plain": [
       "[(1, 'lautaro'),\n",
       " (2, 'usuario 0'),\n",
       " (1, 'usuario 1'),\n",
       " (2, 'usuario 4'),\n",
       " (1, 'usuario 5'),\n",
       " (1, 'usuario 6'),\n",
       " (1, 'usuario 7'),\n",
       " (1, 'usuario 8')]"
      ]
     },
     "execution_count": 3,
     "metadata": {},
     "output_type": "execute_result"
    }
   ],
   "source": [
    "Cotizacion.sa.query(func.count(Cotizacion.sa.id), User.sa.username).join(Cotizacion.sa.creado).group_by(User.sa.id).all()"
   ]
  },
  {
   "cell_type": "code",
   "execution_count": 4,
   "metadata": {},
   "outputs": [
    {
     "data": {
      "text/plain": [
       "<CotizacionQueryset [{'creado__username': 'lautaro', 'id__count': 1}, {'creado__username': 'usuario 0', 'id__count': 2}, {'creado__username': 'usuario 1', 'id__count': 1}, {'creado__username': 'usuario 4', 'id__count': 2}, {'creado__username': 'usuario 5', 'id__count': 1}, {'creado__username': 'usuario 6', 'id__count': 1}, {'creado__username': 'usuario 7', 'id__count': 1}, {'creado__username': 'usuario 8', 'id__count': 1}]>"
      ]
     },
     "execution_count": 4,
     "metadata": {},
     "output_type": "execute_result"
    }
   ],
   "source": [
    "Cotizacion.objects.values('creado__username').annotate(Count('id'))"
   ]
  },
  {
   "cell_type": "code",
   "execution_count": 5,
   "metadata": {},
   "outputs": [
    {
     "name": "stdout",
     "output_type": "stream",
     "text": [
      "{'productos__nombre': 'Producto 0', 'cantidad': 4, 'total': 148.69578648215844}\n",
      "{'productos__nombre': 'Producto 1', 'cantidad': 6, 'total': 1268.9970314846296}\n",
      "{'productos__nombre': 'Producto 10', 'cantidad': 7, 'total': 2443.746778579293}\n",
      "{'productos__nombre': 'Producto 11', 'cantidad': 6, 'total': 765.1610885875933}\n",
      "{'productos__nombre': 'Producto 12', 'cantidad': 5, 'total': 251.0316074570225}\n",
      "{'productos__nombre': 'Producto 13', 'cantidad': 5, 'total': 85.46303935936305}\n",
      "{'productos__nombre': 'Producto 14', 'cantidad': 1, 'total': 92.98749692813226}\n",
      "{'productos__nombre': 'Producto 2', 'cantidad': 10, 'total': 285.33703622041236}\n",
      "{'productos__nombre': 'Producto 3', 'cantidad': 7, 'total': 1138.7791071185843}\n",
      "{'productos__nombre': 'Producto 4', 'cantidad': 7, 'total': 2170.440423798659}\n",
      "{'productos__nombre': 'Producto 5', 'cantidad': 4, 'total': 1133.0569371039942}\n",
      "{'productos__nombre': 'Producto 6', 'cantidad': 4, 'total': 1144.0631963545884}\n",
      "{'productos__nombre': 'Producto 7', 'cantidad': 4, 'total': 1383.2331586622804}\n",
      "{'productos__nombre': 'Producto 8', 'cantidad': 6, 'total': 167.35678825058045}\n",
      "{'productos__nombre': 'Producto 9', 'cantidad': 6, 'total': 72.2800242030975}\n"
     ]
    }
   ],
   "source": [
    "for value in (\n",
    "    Cotizacion.objects\n",
    "    .values('productos__nombre')\n",
    "    .annotate(\n",
    "        cantidad=Count('id'),\n",
    "        total=Sum(F('productos__precio') * F('productos__cantidad')),\n",
    "    )\n",
    "): print(value)"
   ]
  },
  {
   "cell_type": "code",
   "execution_count": 6,
   "metadata": {},
   "outputs": [
    {
     "data": {
      "text/plain": [
       "[('Producto 0', 4, 148.69578648215844),\n",
       " ('Producto 1', 6, 1268.9970314846296),\n",
       " ('Producto 10', 7, 2443.746778579293),\n",
       " ('Producto 11', 6, 765.1610885875933),\n",
       " ('Producto 12', 5, 251.03160745702246),\n",
       " ('Producto 13', 5, 85.46303935936305),\n",
       " ('Producto 14', 1, 92.98749692813226),\n",
       " ('Producto 2', 10, 285.33703622041236),\n",
       " ('Producto 3', 7, 1138.7791071185843),\n",
       " ('Producto 4', 7, 2170.440423798659),\n",
       " ('Producto 5', 4, 1133.0569371039942),\n",
       " ('Producto 6', 4, 1144.0631963545884),\n",
       " ('Producto 7', 4, 1383.2331586622804),\n",
       " ('Producto 8', 6, 167.35678825058045),\n",
       " ('Producto 9', 6, 72.28002420309748)]"
      ]
     },
     "execution_count": 6,
     "metadata": {},
     "output_type": "execute_result"
    }
   ],
   "source": [
    "(\n",
    "    Cotizacion.sa\n",
    "    .query(\n",
    "        ProductoCotizado.sa.nombre,\n",
    "        func.count(ProductoCotizado.sa.id).label('cantidad'),\n",
    "        func.sum(ProductoCotizado.sa.precio * ProductoCotizado.sa.cantidad).label('total'),\n",
    "    )\n",
    "    .join(ProductoCotizado.sa.cotizacion)\n",
    "    .group_by(ProductoCotizado.sa.nombre)\n",
    "    .all()\n",
    ")"
   ]
  },
  {
   "cell_type": "markdown",
   "metadata": {},
   "source": [
    "-----------------------------------------"
   ]
  },
  {
   "cell_type": "markdown",
   "metadata": {},
   "source": [
    "----------------"
   ]
  },
  {
   "cell_type": "code",
   "execution_count": 7,
   "metadata": {},
   "outputs": [
    {
     "name": "stdout",
     "output_type": "stream",
     "text": [
      "{'productos__nombre': 'Producto 10', 'cantidad': 7, 'total': 2443.746778579293, 'ranking': 1}\n",
      "{'productos__nombre': 'Producto 4', 'cantidad': 7, 'total': 2170.440423798659, 'ranking': 2}\n",
      "{'productos__nombre': 'Producto 7', 'cantidad': 4, 'total': 1383.2331586622804, 'ranking': 3}\n",
      "{'productos__nombre': 'Producto 1', 'cantidad': 6, 'total': 1268.9970314846296, 'ranking': 4}\n",
      "{'productos__nombre': 'Producto 6', 'cantidad': 4, 'total': 1144.0631963545884, 'ranking': 5}\n",
      "{'productos__nombre': 'Producto 3', 'cantidad': 7, 'total': 1138.7791071185843, 'ranking': 6}\n",
      "{'productos__nombre': 'Producto 5', 'cantidad': 4, 'total': 1133.0569371039942, 'ranking': 7}\n",
      "{'productos__nombre': 'Producto 11', 'cantidad': 6, 'total': 765.1610885875933, 'ranking': 8}\n",
      "{'productos__nombre': 'Producto 2', 'cantidad': 10, 'total': 285.33703622041236, 'ranking': 9}\n",
      "{'productos__nombre': 'Producto 12', 'cantidad': 5, 'total': 251.0316074570225, 'ranking': 10}\n",
      "{'productos__nombre': 'Producto 8', 'cantidad': 6, 'total': 167.35678825058045, 'ranking': 11}\n",
      "{'productos__nombre': 'Producto 0', 'cantidad': 4, 'total': 148.69578648215844, 'ranking': 12}\n",
      "{'productos__nombre': 'Producto 14', 'cantidad': 1, 'total': 92.98749692813226, 'ranking': 13}\n",
      "{'productos__nombre': 'Producto 13', 'cantidad': 5, 'total': 85.46303935936305, 'ranking': 14}\n",
      "{'productos__nombre': 'Producto 9', 'cantidad': 6, 'total': 72.2800242030975, 'ranking': 15}\n"
     ]
    }
   ],
   "source": [
    "for value in (\n",
    "    Cotizacion.objects\n",
    "    .values('productos__nombre')\n",
    "    .annotate(\n",
    "        cantidad=Count('id'),\n",
    "        total=Sum(F('productos__precio') * F('productos__cantidad')),\n",
    "        ranking=Window(expression=DenseRank(), order_by=[F('total').desc()]),\n",
    "    )\n",
    "    .order_by('ranking')\n",
    "): print(value)"
   ]
  },
  {
   "cell_type": "code",
   "execution_count": 8,
   "metadata": {},
   "outputs": [
    {
     "data": {
      "text/plain": [
       "[('Producto 10', 7, 2443.746778579293, 1),\n",
       " ('Producto 4', 7, 2170.440423798659, 2),\n",
       " ('Producto 7', 4, 1383.2331586622804, 3),\n",
       " ('Producto 1', 6, 1268.9970314846296, 4),\n",
       " ('Producto 6', 4, 1144.0631963545884, 5),\n",
       " ('Producto 3', 7, 1138.7791071185843, 6),\n",
       " ('Producto 5', 4, 1133.0569371039942, 7),\n",
       " ('Producto 11', 6, 765.1610885875933, 8),\n",
       " ('Producto 2', 10, 285.33703622041236, 9),\n",
       " ('Producto 12', 5, 251.03160745702246, 10),\n",
       " ('Producto 8', 6, 167.35678825058045, 11),\n",
       " ('Producto 0', 4, 148.69578648215844, 12),\n",
       " ('Producto 14', 1, 92.98749692813226, 13),\n",
       " ('Producto 13', 5, 85.46303935936305, 14),\n",
       " ('Producto 9', 6, 72.28002420309748, 15)]"
      ]
     },
     "execution_count": 8,
     "metadata": {},
     "output_type": "execute_result"
    }
   ],
   "source": [
    "(\n",
    "    Cotizacion.sa\n",
    "    .query(\n",
    "        ProductoCotizado.sa.nombre,\n",
    "        func.count(ProductoCotizado.sa.id).label('cantidad'),\n",
    "        func.sum(ProductoCotizado.sa.precio * ProductoCotizado.sa.cantidad).label('total'),\n",
    "        func.dense_rank().over(order_by=func.sum(ProductoCotizado.sa.precio * ProductoCotizado.sa.cantidad).desc()),\n",
    "    )\n",
    "    .join(ProductoCotizado.sa.cotizacion)\n",
    "    .group_by(ProductoCotizado.sa.nombre)\n",
    "    .all()\n",
    ")"
   ]
  },
  {
   "cell_type": "markdown",
   "metadata": {},
   "source": [
    "---"
   ]
  },
  {
   "cell_type": "markdown",
   "metadata": {},
   "source": [
    "---"
   ]
  },
  {
   "cell_type": "markdown",
   "metadata": {},
   "source": [
    "---"
   ]
  },
  {
   "cell_type": "code",
   "execution_count": 9,
   "metadata": {},
   "outputs": [
    {
     "name": "stdout",
     "output_type": "stream",
     "text": [
      "{'forma_de_pago__multiplicador': -1, 'forma_de_pago__valor': 20.0, 'cantidad': 20, 'total_con_forma_de_pago': 3537.0, 'ranking': 1}\n",
      "{'forma_de_pago__multiplicador': 1, 'forma_de_pago__valor': 15.0, 'cantidad': 10, 'total_con_forma_de_pago': 2539.0, 'ranking': 2}\n",
      "{'forma_de_pago__multiplicador': -1, 'forma_de_pago__valor': 5.0, 'cantidad': 17, 'total_con_forma_de_pago': 2379.0, 'ranking': 3}\n",
      "{'forma_de_pago__multiplicador': -1, 'forma_de_pago__valor': 15.0, 'cantidad': 19, 'total_con_forma_de_pago': 1376.0, 'ranking': 4}\n",
      "{'forma_de_pago__multiplicador': -1, 'forma_de_pago__valor': 0.0, 'cantidad': 7, 'total_con_forma_de_pago': 1103.0, 'ranking': 5}\n",
      "{'forma_de_pago__multiplicador': -1, 'forma_de_pago__valor': 10.0, 'cantidad': 9, 'total_con_forma_de_pago': 634.0, 'ranking': 6}\n"
     ]
    }
   ],
   "source": [
    "total = Round(F('cotizacion__productos__precio') * F('cotizacion__productos__cantidad'))\n",
    "total_con_forma_de_pago = Round(total + total * F('forma_de_pago__multiplicador') * F('forma_de_pago__valor') / 100)\n",
    "for valor in (\n",
    "    Venta.objects\n",
    "    .values('forma_de_pago__multiplicador', 'forma_de_pago__valor')\n",
    "    .annotate(\n",
    "        cantidad=Count('id'),\n",
    "        total_con_forma_de_pago=ExpressionWrapper(Sum(total_con_forma_de_pago), FloatField()),\n",
    "        ranking=Window(expression=DenseRank(), order_by=[F('total_con_forma_de_pago').desc()]),\n",
    "    )\n",
    "    .order_by('ranking')\n",
    "): print(valor)"
   ]
  },
  {
   "cell_type": "code",
   "execution_count": 10,
   "metadata": {},
   "outputs": [
    {
     "data": {
      "text/plain": [
       "[(-1, 20.0, 20, 3535.3460508523112, 1),\n",
       " (1, 15.0, 10, 2538.7236939070854, 2),\n",
       " (-1, 5.0, 17, 2380.0352251237646, 3),\n",
       " (-1, 15.0, 19, 1371.8899482059767, 4),\n",
       " (-1, 0.0, 7, 1102.5506010550912, 5),\n",
       " (-1, 10.0, 9, 631.8198934639045, 6)]"
      ]
     },
     "execution_count": 10,
     "metadata": {},
     "output_type": "execute_result"
    }
   ],
   "source": [
    "total = func.sum(ProductoCotizado.sa.precio * ProductoCotizado.sa.cantidad + ProductoCotizado.sa.precio * ProductoCotizado.sa.cantidad * FormaDePago.sa.multiplicador * FormaDePago.sa.valor / 100)\n",
    "(\n",
    "    Venta.sa.query(\n",
    "        FormaDePago.sa.multiplicador,\n",
    "        FormaDePago.sa.valor,\n",
    "        func.count(Venta.sa.id),\n",
    "        total,\n",
    "        func.dense_rank().over(order_by=total.desc()),\n",
    "        \n",
    "    )\n",
    "    .join(Venta.sa, Venta.sa.forma_de_pago_id == FormaDePago.sa.id)\n",
    "    .join(ProductoCotizado.sa, ProductoCotizado.sa.cotizacion_id == Venta.sa.cotizacion_id)\n",
    "    .group_by(FormaDePago.sa.multiplicador, FormaDePago.sa.valor)\n",
    "    .order_by(total.desc())\n",
    "    .all()\n",
    ")"
   ]
  },
  {
   "cell_type": "code",
   "execution_count": 15,
   "metadata": {},
   "outputs": [
    {
     "name": "stdout",
     "output_type": "stream",
     "text": [
      "SELECT commerce_formadepago.multiplicador AS multiplicador, commerce_formadepago.valor AS valor, count(commerce_venta.id) AS count_1, sum(commerce_productocotizado.precio * commerce_productocotizado.cantidad + (commerce_productocotizado.precio * commerce_productocotizado.cantidad * commerce_formadepago.multiplicador * commerce_formadepago.valor) / ?) AS total, dense_rank() OVER (ORDER BY sum(commerce_productocotizado.precio * commerce_productocotizado.cantidad + (commerce_productocotizado.precio * commerce_productocotizado.cantidad * commerce_formadepago.multiplicador * commerce_formadepago.valor) / ?) DESC) AS anon_1 \n",
      "FROM commerce_formadepago JOIN commerce_venta ON commerce_venta.forma_de_pago_id = commerce_formadepago.id JOIN commerce_productocotizado ON commerce_productocotizado.cotizacion_id = commerce_venta.cotizacion_id GROUP BY multiplicador, valor ORDER BY total DESC\n"
     ]
    }
   ],
   "source": [
    "#total = func.sum(ProductoCotizado.sa.precio * ProductoCotizado.sa.cantidad + ProductoCotizado.sa.precio * ProductoCotizado.sa.cantidad * FormaDePago.sa.multiplicador * FormaDePago.sa.valor / 100).label('total')\n",
    "total = func.sum(ProductoCotizado.total + ProductoCotizado.total * FormaDePago.extra_multiplicador / 100).label('total')\n",
    "print(\n",
    "    Venta.sa.query(\n",
    "        FormaDePago.sa.multiplicador.label('multiplicador'),\n",
    "        FormaDePago.sa.valor.label('valor'),\n",
    "        func.count(Venta.sa.id),\n",
    "        total,\n",
    "        func.dense_rank().over(order_by=total.desc()),\n",
    "        \n",
    "    )\n",
    "    .join(Venta.sa, Venta.sa.forma_de_pago_id == FormaDePago.sa.id)\n",
    "    .join(ProductoCotizado.sa, ProductoCotizado.sa.cotizacion_id == Venta.sa.cotizacion_id)\n",
    "    .group_by('multiplicador', 'valor')\n",
    "    .order_by(desc('total'))\n",
    "\n",
    ")"
   ]
  },
  {
   "cell_type": "markdown",
   "metadata": {},
   "source": [
    "---"
   ]
  },
  {
   "cell_type": "code",
   "execution_count": null,
   "metadata": {},
   "outputs": [],
   "source": []
  },
  {
   "cell_type": "code",
   "execution_count": null,
   "metadata": {},
   "outputs": [],
   "source": []
  },
  {
   "cell_type": "code",
   "execution_count": null,
   "metadata": {},
   "outputs": [],
   "source": []
  },
  {
   "cell_type": "code",
   "execution_count": null,
   "metadata": {},
   "outputs": [],
   "source": []
  },
  {
   "cell_type": "code",
   "execution_count": null,
   "metadata": {},
   "outputs": [],
   "source": []
  },
  {
   "cell_type": "code",
   "execution_count": null,
   "metadata": {},
   "outputs": [],
   "source": []
  },
  {
   "cell_type": "code",
   "execution_count": null,
   "metadata": {},
   "outputs": [],
   "source": []
  },
  {
   "cell_type": "code",
   "execution_count": null,
   "metadata": {},
   "outputs": [],
   "source": []
  },
  {
   "cell_type": "code",
   "execution_count": null,
   "metadata": {},
   "outputs": [],
   "source": []
  },
  {
   "cell_type": "code",
   "execution_count": null,
   "metadata": {},
   "outputs": [],
   "source": []
  },
  {
   "cell_type": "code",
   "execution_count": null,
   "metadata": {},
   "outputs": [],
   "source": []
  },
  {
   "cell_type": "code",
   "execution_count": null,
   "metadata": {},
   "outputs": [],
   "source": []
  },
  {
   "cell_type": "code",
   "execution_count": null,
   "metadata": {},
   "outputs": [],
   "source": []
  },
  {
   "cell_type": "code",
   "execution_count": null,
   "metadata": {},
   "outputs": [],
   "source": []
  },
  {
   "cell_type": "code",
   "execution_count": null,
   "metadata": {},
   "outputs": [],
   "source": []
  },
  {
   "cell_type": "code",
   "execution_count": null,
   "metadata": {},
   "outputs": [],
   "source": []
  },
  {
   "cell_type": "code",
   "execution_count": null,
   "metadata": {},
   "outputs": [],
   "source": []
  },
  {
   "cell_type": "code",
   "execution_count": null,
   "metadata": {},
   "outputs": [],
   "source": []
  }
 ],
 "metadata": {
  "interpreter": {
   "hash": "a0f7385a5c1e62c4cf4508ccf5d5e6ab99baf9f0df32f7e9dc8119b2ef5bd2c5"
  },
  "kernelspec": {
   "display_name": "Django Shell-Plus",
   "language": "python",
   "name": "django_extensions"
  },
  "language_info": {
   "codemirror_mode": {
    "name": "ipython",
    "version": 3
   },
   "file_extension": ".py",
   "mimetype": "text/x-python",
   "name": "python",
   "nbconvert_exporter": "python",
   "pygments_lexer": "ipython3",
   "version": "3.9.6"
  },
  "widgets": {
   "application/vnd.jupyter.widget-state+json": {
    "state": {},
    "version_major": 2,
    "version_minor": 0
   }
  }
 },
 "nbformat": 4,
 "nbformat_minor": 4
}
