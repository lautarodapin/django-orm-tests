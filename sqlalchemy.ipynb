{
 "cells": [
  {
   "cell_type": "code",
   "execution_count": 12,
   "metadata": {},
   "outputs": [],
   "source": [
    "import django\r\n",
    "import os\r\n",
    "\r\n",
    "from django.core.wsgi import get_wsgi_application\r\n",
    "\r\n",
    "os.environ.setdefault('DJANGO_SETTINGS_MODULE', 'django_orm_tests.settings')\r\n",
    "\r\n",
    "application = get_wsgi_application()\r\n",
    "\r\n",
    "\r\n",
    "import pandas as pd\r\n",
    "from commerce.models import WithChoices\r\n",
    "from django.db.models.functions import *\r\n",
    "from django.db.models.expressions import *\r\n",
    "from django.db.models.fields import *\r\n",
    "from django.db.models import *\r\n",
    "from commerce.models import *"
   ]
  },
  {
   "cell_type": "code",
   "execution_count": 60,
   "metadata": {},
   "outputs": [],
   "source": [
    "from sqlalchemy import func, desc, asc, text\n",
    "from sqlalchemy.sql import label, literal_column, literal"
   ]
  },
  {
   "cell_type": "code",
   "execution_count": 20,
   "metadata": {},
   "outputs": [
    {
     "data": {
      "text/plain": [
       "[(1, 'lautaro'),\n",
       " (1, 'usuario 0'),\n",
       " (1, 'usuario 1'),\n",
       " (2, 'usuario 3'),\n",
       " (1, 'usuario 4')]"
      ]
     },
     "execution_count": 20,
     "metadata": {},
     "output_type": "execute_result"
    }
   ],
   "source": [
    "Cotizacion.sa.query(func.count(Cotizacion.sa.id), User.sa.username).join(Cotizacion.sa.creado).group_by(User.sa.id).all()"
   ]
  },
  {
   "cell_type": "code",
   "execution_count": 22,
   "metadata": {},
   "outputs": [
    {
     "data": {
      "text/plain": [
       "<CotizacionQueryset [{'creado__username': 'lautaro', 'id__count': 1}, {'creado__username': 'usuario 0', 'id__count': 1}, {'creado__username': 'usuario 1', 'id__count': 1}, {'creado__username': 'usuario 3', 'id__count': 2}, {'creado__username': 'usuario 4', 'id__count': 1}]>"
      ]
     },
     "execution_count": 22,
     "metadata": {},
     "output_type": "execute_result"
    }
   ],
   "source": [
    "Cotizacion.objects.values('creado__username').annotate(Count('id'))"
   ]
  },
  {
   "cell_type": "code",
   "execution_count": 26,
   "metadata": {},
   "outputs": [
    {
     "name": "stdout",
     "output_type": "stream",
     "text": [
      "{'productos__nombre': 'Producto 0', 'cantidad': 5, 'total': 304.4553197459108}\n",
      "{'productos__nombre': 'Producto 1', 'cantidad': 4, 'total': 783.017031518781}\n",
      "{'productos__nombre': 'Producto 10', 'cantidad': 6, 'total': 990.2370844671439}\n",
      "{'productos__nombre': 'Producto 11', 'cantidad': 3, 'total': 901.525116563339}\n",
      "{'productos__nombre': 'Producto 12', 'cantidad': 2, 'total': 92.69400655807588}\n",
      "{'productos__nombre': 'Producto 13', 'cantidad': 5, 'total': 346.9551907843867}\n",
      "{'productos__nombre': 'Producto 2', 'cantidad': 2, 'total': 552.0207134106386}\n",
      "{'productos__nombre': 'Producto 3', 'cantidad': 4, 'total': 334.83972620114974}\n",
      "{'productos__nombre': 'Producto 4', 'cantidad': 3, 'total': 26.76140386197111}\n",
      "{'productos__nombre': 'Producto 5', 'cantidad': 2, 'total': 508.9299125825958}\n",
      "{'productos__nombre': 'Producto 6', 'cantidad': 5, 'total': 247.1247165368071}\n",
      "{'productos__nombre': 'Producto 7', 'cantidad': 2, 'total': 188.11342774200506}\n",
      "{'productos__nombre': 'Producto 8', 'cantidad': 5, 'total': 260.90219605975767}\n",
      "{'productos__nombre': 'Producto 9', 'cantidad': 2, 'total': 110.38411431409338}\n"
     ]
    }
   ],
   "source": [
    "for value in (\n",
    "    Cotizacion.objects\n",
    "    .values('productos__nombre')\n",
    "    .annotate(\n",
    "        cantidad=Count('id'),\n",
    "        total=Sum(F('productos__precio') * F('productos__cantidad')),\n",
    "    )\n",
    "): print(value)"
   ]
  },
  {
   "cell_type": "code",
   "execution_count": 50,
   "metadata": {},
   "outputs": [
    {
     "data": {
      "text/plain": [
       "[('Producto 0', 5, 304.4553197459108),\n",
       " ('Producto 1', 4, 783.017031518781),\n",
       " ('Producto 10', 6, 990.237084467144),\n",
       " ('Producto 11', 3, 901.525116563339),\n",
       " ('Producto 12', 2, 92.69400655807588),\n",
       " ('Producto 13', 5, 346.9551907843867),\n",
       " ('Producto 2', 2, 552.0207134106386),\n",
       " ('Producto 3', 4, 334.83972620114974),\n",
       " ('Producto 4', 3, 26.76140386197111),\n",
       " ('Producto 5', 2, 508.9299125825958),\n",
       " ('Producto 6', 5, 247.1247165368071),\n",
       " ('Producto 7', 2, 188.11342774200506),\n",
       " ('Producto 8', 5, 260.90219605975767),\n",
       " ('Producto 9', 2, 110.38411431409338)]"
      ]
     },
     "execution_count": 50,
     "metadata": {},
     "output_type": "execute_result"
    }
   ],
   "source": [
    "(\n",
    "    Cotizacion.sa\n",
    "    .query(\n",
    "        ProductoCotizado.sa.nombre,\n",
    "        func.count(ProductoCotizado.sa.id).label('cantidad'),\n",
    "        func.sum(ProductoCotizado.sa.precio * ProductoCotizado.sa.cantidad).label('total'),\n",
    "    )\n",
    "    .join(ProductoCotizado.sa.cotizacion)\n",
    "    .group_by(ProductoCotizado.sa.nombre)\n",
    "    .all()\n",
    ")"
   ]
  },
  {
   "cell_type": "markdown",
   "metadata": {},
   "source": [
    "-----------------------------------------"
   ]
  },
  {
   "cell_type": "markdown",
   "metadata": {},
   "source": [
    "----------------"
   ]
  },
  {
   "cell_type": "code",
   "execution_count": 40,
   "metadata": {},
   "outputs": [
    {
     "name": "stdout",
     "output_type": "stream",
     "text": [
      "{'productos__nombre': 'Producto 10', 'cantidad': 6, 'total': 990.2370844671439, 'ranking': 1}\n",
      "{'productos__nombre': 'Producto 11', 'cantidad': 3, 'total': 901.525116563339, 'ranking': 2}\n",
      "{'productos__nombre': 'Producto 1', 'cantidad': 4, 'total': 783.017031518781, 'ranking': 3}\n",
      "{'productos__nombre': 'Producto 2', 'cantidad': 2, 'total': 552.0207134106386, 'ranking': 4}\n",
      "{'productos__nombre': 'Producto 5', 'cantidad': 2, 'total': 508.9299125825958, 'ranking': 5}\n",
      "{'productos__nombre': 'Producto 13', 'cantidad': 5, 'total': 346.9551907843867, 'ranking': 6}\n",
      "{'productos__nombre': 'Producto 3', 'cantidad': 4, 'total': 334.83972620114974, 'ranking': 7}\n",
      "{'productos__nombre': 'Producto 0', 'cantidad': 5, 'total': 304.4553197459108, 'ranking': 8}\n",
      "{'productos__nombre': 'Producto 8', 'cantidad': 5, 'total': 260.90219605975767, 'ranking': 9}\n",
      "{'productos__nombre': 'Producto 6', 'cantidad': 5, 'total': 247.1247165368071, 'ranking': 10}\n",
      "{'productos__nombre': 'Producto 7', 'cantidad': 2, 'total': 188.11342774200506, 'ranking': 11}\n",
      "{'productos__nombre': 'Producto 9', 'cantidad': 2, 'total': 110.38411431409338, 'ranking': 12}\n",
      "{'productos__nombre': 'Producto 12', 'cantidad': 2, 'total': 92.69400655807588, 'ranking': 13}\n",
      "{'productos__nombre': 'Producto 4', 'cantidad': 3, 'total': 26.76140386197111, 'ranking': 14}\n"
     ]
    }
   ],
   "source": [
    "for value in (\n",
    "    Cotizacion.objects\n",
    "    .values('productos__nombre')\n",
    "    .annotate(\n",
    "        cantidad=Count('id'),\n",
    "        total=Sum(F('productos__precio') * F('productos__cantidad')),\n",
    "        ranking=Window(expression=DenseRank(), order_by=[F('total').desc()]),\n",
    "    )\n",
    "    .order_by('ranking')\n",
    "): print(value)"
   ]
  },
  {
   "cell_type": "code",
   "execution_count": 73,
   "metadata": {},
   "outputs": [
    {
     "data": {
      "text/plain": [
       "[('Producto 10', 6, 990.237084467144, 1),\n",
       " ('Producto 11', 3, 901.525116563339, 2),\n",
       " ('Producto 1', 4, 783.017031518781, 3),\n",
       " ('Producto 2', 2, 552.0207134106386, 4),\n",
       " ('Producto 5', 2, 508.9299125825958, 5),\n",
       " ('Producto 13', 5, 346.9551907843867, 6),\n",
       " ('Producto 3', 4, 334.83972620114974, 7),\n",
       " ('Producto 0', 5, 304.4553197459108, 8),\n",
       " ('Producto 8', 5, 260.90219605975767, 9),\n",
       " ('Producto 6', 5, 247.1247165368071, 10),\n",
       " ('Producto 7', 2, 188.11342774200506, 11),\n",
       " ('Producto 9', 2, 110.38411431409338, 12),\n",
       " ('Producto 12', 2, 92.69400655807588, 13),\n",
       " ('Producto 4', 3, 26.76140386197111, 14)]"
      ]
     },
     "execution_count": 73,
     "metadata": {},
     "output_type": "execute_result"
    }
   ],
   "source": [
    "(\n",
    "    Cotizacion.sa\n",
    "    .query(\n",
    "        ProductoCotizado.sa.nombre,\n",
    "        func.count(ProductoCotizado.sa.id).label('cantidad'),\n",
    "        func.sum(ProductoCotizado.sa.precio * ProductoCotizado.sa.cantidad).label('total'),\n",
    "        func.dense_rank().over(order_by=func.sum(ProductoCotizado.sa.precio * ProductoCotizado.sa.cantidad).desc())\n",
    "    )\n",
    "    .join(ProductoCotizado.sa.cotizacion)\n",
    "    .group_by(ProductoCotizado.sa.nombre)\n",
    "    .all()\n",
    ")"
   ]
  },
  {
   "cell_type": "code",
   "execution_count": null,
   "metadata": {},
   "outputs": [],
   "source": []
  }
 ],
 "metadata": {
  "interpreter": {
   "hash": "a0f7385a5c1e62c4cf4508ccf5d5e6ab99baf9f0df32f7e9dc8119b2ef5bd2c5"
  },
  "kernelspec": {
   "display_name": "Python 3 (ipykernel)",
   "language": "python",
   "name": "python3"
  },
  "language_info": {
   "codemirror_mode": {
    "name": "ipython",
    "version": 3
   },
   "file_extension": ".py",
   "mimetype": "text/x-python",
   "name": "python",
   "nbconvert_exporter": "python",
   "pygments_lexer": "ipython3",
   "version": "3.8.4"
  }
 },
 "nbformat": 4,
 "nbformat_minor": 4
}
